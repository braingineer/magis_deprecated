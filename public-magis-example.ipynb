{
 "cells": [
  {
   "cell_type": "code",
   "execution_count": 1,
   "metadata": {
    "collapsed": false
   },
   "outputs": [],
   "source": [
    "import magis"
   ]
  },
  {
   "cell_type": "code",
   "execution_count": 3,
   "metadata": {
    "collapsed": false
   },
   "outputs": [
    {
     "name": "stdout",
     "output_type": "stream",
     "text": [
      "['fawn', 'light grey blue', 'pale violet', 'light lilac', 'clay brown', 'peacock blue', 'carnation pink', 'dirty orange', 'yellow', 'cobalt', 'dark mint green', 'minty green', 'deep violet', 'claret', 'skin', 'dull red', 'apple green', 'darkish purple', 'greyish brown', 'prussian blue', 'deep purple', 'yellow ochre', 'dark maroon', 'vomit green', 'crimson', 'camouflage green', 'brown', 'green-yellow', 'sage green', 'bile', 'brown-green', 'purpley blue', 'light periwinkle', 'seafoam blue', 'marigold', 'reddish', 'asparagus', 'light burgundy', 'lemon lime', 'greenish teal', 'greyish green', 'sand', 'brownish', 'brownish purple', 'teal', 'greenish', 'green-brown', 'brown-orange', 'pinky purple', 'blood red', 'neon pink', 'navy green', 'baby blue', 'vermillion', 'darkish green', 'lavender', 'pink-red', 'dark slate blue', 'orangey red', 'earth', 'purple-brown', 'lightish green', 'sick green', 'light orange', 'ugly pink', 'blue', 'pale lilac', 'rich purple', 'metallic blue', 'warm brown', 'dirt', 'burgundy', 'blush pink', 'greenish grey', 'tan brown', 'deep teal', 'burnt red', 'pastel pink', 'camel', 'light kelly green', 'orangey brown', 'acid green', 'bright aqua', 'barbie pink', 'dark cream', 'bluey grey', 'dark navy', 'skin colour', 'leafy green', 'dark tan', 'pear', 'neon yellow', 'dark khaki', 'mud brown', 'dusty rose', 'weird', 'dark rose', 'golden', 'dark peach', 'dried blood', 'orangish', 'sienna', 'hot green', 'dodger blue', 'light mint green', 'booger green', 'bright fuchsia', 'seafoam', 'lime', 'celery', 'fluorescent green', 'bright lime green', 'cerulean blue', 'puke', 'sunshine yellow', 'algae', 'pine green', 'light yellow green', 'blueberry', 'chestnut', 'charcoal', 'brick orange', 'yuck', 'pretty', 'ice blue', 'navy blue', 'electric purple', 'tangerine', 'light salmon', 'light aqua', 'chocolate', 'grassy green', 'melon', 'flat green', 'olive', 'pale salmon', 'spearmint', 'flat blue', 'almost black', 'barf green', 'yellow tan', 'cool grey', 'grape', 'darker pink', 'light bright green', 'dull orange', 'dark lavender', 'adobe', 'deep aqua', 'electric green', 'deep magenta', 'light tan', 'dark hot pink', 'swamp green', 'pink', 'warm grey', 'primary blue', 'light mustard', 'lime yellow', 'dark turquoise', 'deep lavender', 'bright lilac', 'sandstone', 'pine', 'merlot', 'soft blue', 'dull green', 'night blue', 'yellowish', 'teal green', 'bubblegum pink', 'pale purple', 'lipstick red', 'seafoam green', 'hunter green', 'blood', 'light pea green', 'pale lime', 'kiwi green', 'faded green', 'very dark green', 'tomato', 'weird green', 'heliotrope', 'light aquamarine', 'poop brown', 'bright light blue', 'chocolate brown', 'mango', 'green', 'bright turquoise', 'red violet', 'easter purple', 'flourescent green', 'rich blue', 'khaki green', 'cadet blue', 'battleship grey', 'poop green', 'irish green', 'light fuchsia', 'dark olive', 'midnight', 'indigo blue', 'canary', 'auburn', 'grey-brown', 'orange-red', 'cyan', 'denim', 'pink-purple', 'bright lime', 'saffron', 'avocado', 'off white', 'darkish red', 'light sky blue', 'lighter green', 'orange', 'burnt sienna', 'forest', 'cornflower', 'coffee', 'neon green', 'dark magenta', 'violet pink', 'slate', 'emerald green', 'blue-grey', 'faded red', 'vomit', 'lightish blue', 'celery green', 'faded orange', 'pumpkin orange', 'pinkish', 'twilight', 'silver', 'dusty teal', 'vomit yellow', 'dark navy blue', 'goldenrod', 'ruby', 'jade green', 'dirty green', 'off green', 'pale olive green', 'dark violet', 'reddy brown', 'ecru', 'soft pink', 'scarlet', 'milk chocolate', 'pale yellow-green', 'rose red', 'pure blue', 'dark royal blue', 'greyish pink', 'magneta', 'lilac', \"robin's egg blue\", 'mahogany', 'pea soup green', 'steel blue', 'light olive green', 'grey blue', 'deep green', 'dusky rose', 'navy', 'pea', 'sandy', 'velvet', 'lipstick', 'greyish teal', 'dark red', 'pastel green', 'brick red', 'carolina blue', 'amethyst', 'dirty yellow', 'dark plum', 'caucasian', 'red', 'bright pink', 'brownish red', 'baby green', 'light magenta', 'royal blue', 'putty', 'sky blue', 'deep lilac', 'marine', 'dark periwinkle', 'cornflower blue', 'gunmetal', 'puke green', 'yellow-orange', 'camo green', 'pale cyan', 'midnight purple', 'dark gold', 'grey pink', 'twilight blue', 'muted purple', 'blush', 'darkish blue', 'slate grey', 'dusty orange', 'copper', 'puce', 'dark pink', 'dark coral', 'pale teal', 'pinkish brown', 'red-brown', 'fern', 'reddish pink', 'aqua green', 'pale sky blue', 'pinkish grey', 'lavender blue', 'terracotta', 'dusk blue', 'dark blue', 'cool blue', 'snot green', 'drab green', 'white', 'light peach', 'banana', 'muted pink', 'kiwi', 'brown yellow', 'light mauve', 'muted blue', 'light lavender', 'brownish grey', 'off yellow', 'pinkish purple', 'light mint', 'light sage', 'deep orange', 'greeny brown', 'royal', 'steel', 'off blue', 'electric blue', 'ugly green', 'medium blue', 'forest green', 'celadon', 'purple-pink', 'light green', 'pea green', 'rusty red', 'true blue', 'cherry red', 'pale gold', 'fire engine red', 'bright teal', 'barf', 'dark aqua', 'tea green', 'raw umber', 'baby puke green', 'mint', 'biege', 'baby poop green', 'lawn green', 'pastel blue', 'neon red', 'turtle green', 'green-grey', 'snot', 'barney purple', 'viridian', \"robin's egg\", 'buff', 'dark seafoam green', 'dull blue', 'hazel', 'salmon', 'periwinkle blue', 'pale blue-green', 'pale brown', 'dark grey', 'greyish', 'warm blue', 'raw sienna', 'hot purple', 'red-pink', 'bright sea green', 'light gold', 'dark mustard', 'pale orange', 'light lime green', 'purpley pink', 'reddish purple', 'wine', 'dusty pink', 'vibrant blue', 'gold', 'bluey green', 'flesh pink', 'tiffany blue', 'sage', 'royal purple', 'pea soup', 'puke yellow', 'seaweed', 'rouge', 'purple grey', 'dirty blue', 'deep red', 'bright purple', 'violet red', 'key lime', 'greenish turquoise', 'very light blue', 'greenish blue', 'bluish grey', 'purplish pink', 'muddy green', 'black', 'cerise', 'indian red', 'denim blue', 'darker purple', 'pumpkin', 'pale lavender', 'magenta', 'dark blue-grey', 'dandelion', 'pastel orange', 'kermit green', 'foam green', 'electric pink', 'watermelon', 'light grass green', 'purplish red', 'brownish green', 'skin tone', 'ugly purple', 'leather', 'red-purple', 'dark sage', 'topaz', 'caramel', 'dirty pink', 'electric lime', 'deep pink', 'golden yellow', 'yellowish green', 'bright magenta', 'dark sky blue', 'jade', 'avocado green', 'muddy yellow', 'orange-yellow', 'grey', 'bright yellow', 'puke brown', 'sea', 'violet', 'bright cyan', 'very dark purple', 'peachy pink', 'light maroon', 'pale yellow', 'light purple', 'duck egg blue', 'light rose', 'baby shit green', 'cobalt blue', 'mud', 'frog green', 'horrible', 'vivid green', 'faded blue', 'sickly green', 'plum purple', 'sandy yellow', 'very pale green', 'yellowish brown', 'light blue grey', 'bright orange', 'shit brown', 'grey purple', 'cerulean', 'yellow-green', 'slate green', 'dark taupe', 'umber', 'greenish tan', 'bronze', 'darker blue', 'very light green', 'vivid purple', 'burnt yellow', 'dark lime', 'violet blue', 'dusty purple', 'hot pink', 'aqua', 'canary yellow', 'pale olive', 'warm pink', 'berry', 'eggplant', 'rose', 'medium pink', 'lightish purple', 'dusky blue', 'neon blue', 'butter yellow', 'pale grey', 'lighter blue', 'pastel purple', 'pale rose', 'steel grey', 'pinky red', 'baby pink', 'dull purple', 'brownish yellow', 'wine red', 'wisteria', 'flesh tone', 'light lime', 'orange-brown', 'rust red', 'light navy', 'deep rose', 'dark teal', 'pale lime green', 'grapefruit', 'faded pink', 'brick', 'greenish yellow', 'kahki', 'murky green', 'mushroom', 'mustard brown', 'dark sand', 'mustard green', 'squash', 'marine blue', 'light light blue', 'pale aqua', 'light indigo', 'burnt umber', 'darker green', 'midnight blue', 'light forest green', 'green apple', 'red-orange', 'easter green', 'greyish blue', 'dark seafoam', 'yellow-brown', 'blue-green', 'moss green', 'light plum', 'ugly', 'dark cyan', 'taupe', 'dark yellow', 'slime green', 'bottle green', 'shamrock', 'british racing green', 'pale red', 'tree green', 'light royal blue', 'grey green', 'eggshell', 'gross green', 'algae green', 'pale green', 'purplish brown', 'carnation', 'grass green', 'bright sky blue', 'ugly yellow', 'yellowish orange', 'dusk', 'dark mint', 'barney', 'lightish red', 'medium purple', 'dark aquamarine', 'light green-blue', 'soft green', 'deep sky blue', 'heather', 'mulberry', 'jungle green', 'butter', 'medium brown', 'blood orange', 'dark fuchsia', 'piss yellow', 'light olive', 'ocean', 'sap green', 'medium grey', 'mint green', 'light navy blue', 'powder blue', 'dirt brown', 'dull brown', 'ocean blue', 'dusty blue', 'plum', 'flesh', 'emerald', 'bright light green', 'olive brown', 'light turquoise', 'dark olive green', 'pale pink', 'dark forest green', 'reddish brown', 'parchment', 'apple', 'green-blue', 'sunflower', 'light yellow', 'cherry', 'very light pink', 'sky', 'pale turquoise', 'neon purple', 'light violet', 'chartreuse', 'true green', 'dark sea green', 'periwinkle', 'hospital green', 'leaf green', 'light neon green', 'shocking pink', 'salmon pink', 'turquoise', 'aubergine', 'shit green', 'light red', 'ultramarine', 'dull pink', 'pale blue', 'reddish orange', 'pale magenta', 'dark mauve', 'olive green', 'cool green', 'aqua blue', 'light greenish blue', 'faded yellow', 'nude', 'fern green', 'light beige', 'banana yellow', 'bright blue', 'dark lime green', 'clay', 'muddy brown', 'rosy pink', 'burnt orange', 'wintergreen', 'dark indigo', 'eggshell blue', 'mauve', 'pinkish orange', 'very pale blue', 'deep blue', 'dark brown', 'ultramarine blue', 'butterscotch', 'orchid', 'gross', 'light seafoam', 'leaf', 'purple', 'ice', 'indigo', 'blue violet', 'dark grey blue', 'mid blue', 'dusty red', 'dusty green', 'khaki', 'wheat', 'greyish purple', 'icky green', 'bright lavender', 'tomato red', 'dark purple', 'dull teal', 'raspberry', 'ochre', 'iris', 'stone', 'turquoise blue', 'army green', 'purplish grey', 'light grey', 'coral', 'bright red', 'bluish purple', 'vivid blue', 'pistachio', 'baby poop', 'beige', 'cranberry', 'azure', 'seaweed green', 'hot magenta', 'brownish pink', 'muted green', 'amber', 'lemon yellow', 'moss', 'dark orange', 'greeny grey', 'dark salmon', 'mocha', 'cocoa', 'dusky purple', 'muave', 'kelly green', 'sandy brown', 'lighter purple', 'purplish', 'blue-purple', 'maize', 'pinkish red', 'orangish brown', 'golden brown', 'turquoise green', 'light pink', 'fuchsia', 'soft purple', 'brown-red', 'pastel yellow', 'vibrant purple', 'rusty orange', 'mid green', 'olive drab', 'very light purple', 'ivory', 'tealish', 'french blue', 'bluish green', 'bright olive', 'medium green', 'spam', 'hiccup', 'blueish', 'pale mauve', 'coral pink', 'faded purple', 'apricot', 'dark lilac', 'brown-grey', 'strawberry', 'light cyan', 'purple-red', 'sapphire', 'sea blue', 'dark blue-green', 'grass', 'rust', 'bluey purple', 'russet', 'rust orange', 'very dark blue', 'sepia', 'maroon', 'light sea green', 'sunflower yellow', 'purplish blue', 'spring green', 'light blue', 'lime green', 'shit', 'cream', 'lemon', 'peach', 'bright violet', 'pale', 'diarrhea', 'brownish orange', 'bubblegum', 'bright yellow green', 'rose pink', 'purple blue', 'fluro green', 'dusky pink', 'teal blue', 'evergreen', 'pale peach', 'poop', 'bright indigo', 'mustard', 'military green', 'sea green', 'bright green', 'vibrant green', 'dark yellow-green', 'light brown', 'light teal', 'orangish red', 'dark beige', 'drab', 'mustard yellow', 'tan', 'aquamarine', 'dull yellow', 'highlighter green', 'greenish brown', 'blurple', 'macaroni and cheese', 'stormy blue', 'light seafoam green', 'ocean green', 'grape purple', 'shamrock green', 'light blue-green', 'slate blue', 'dark green']\n"
     ]
    }
   ],
   "source": [
    "lux = magis.models.Lux.pretrained()\n",
    "colors = {c.name:c for c in lux.components}\n",
    "print(list(colors.keys()))"
   ]
  },
  {
   "cell_type": "code",
   "execution_count": 5,
   "metadata": {
    "collapsed": false
   },
   "outputs": [
    {
     "name": "stderr",
     "output_type": "stream",
     "text": [
      "loading data: 100%|██████████| 829/829 [00:07<00:00, 108.75it/s]\n",
      "converting data: 100%|██████████| 829/829 [00:00<00:00, 3819.68it/s]\n"
     ]
    }
   ],
   "source": [
    "xk = magis.data.XKCD()\n",
    "xk.load()"
   ]
  },
  {
   "cell_type": "code",
   "execution_count": 6,
   "metadata": {
    "collapsed": true
   },
   "outputs": [],
   "source": [
    "generator = xk.generate_forever('train')"
   ]
  },
  {
   "cell_type": "code",
   "execution_count": 9,
   "metadata": {
    "collapsed": false
   },
   "outputs": [
    {
     "name": "stdout",
     "output_type": "stream",
     "text": [
      "(array([ 0.48971193,  0.73303167,  0.86666667]), 47)\n",
      "(array([ 0.32692308,  0.87640449,  0.34901961]), 192)\n",
      "(array([ 0.23768116,  0.92369478,  0.97647059]), 705)\n",
      "(array([ 0.34883721,  0.75438596,  0.44705882]), 192)\n",
      "(array([ 0.08257576,  0.86956522,  0.99215686]), 221)\n"
     ]
    }
   ],
   "source": [
    "for _ in range(5):\n",
    "    print(next(generator))"
   ]
  },
  {
   "cell_type": "code",
   "execution_count": 13,
   "metadata": {
    "collapsed": false
   },
   "outputs": [
    {
     "data": {
      "text/plain": [
       "[(array([-0.19466667,  0.80128205,  0.61176471]), 681),\n",
       " (array([ 0.63418079,  0.99159664,  0.46666667]), 66),\n",
       " (array([ 0.69175627,  0.62416107,  0.58431373]), 683),\n",
       " (array([ 0.09737828,  0.74789916,  0.93333333]), 221),\n",
       " (array([ 0.62457912,  0.90825688,  0.85490196]), 66)]"
      ]
     },
     "execution_count": 13,
     "metadata": {},
     "output_type": "execute_result"
    }
   ],
   "source": [
    "import itertools\n",
    "list(itertools.islice(generator,0,5))"
   ]
  }
 ],
 "metadata": {
  "anaconda-cloud": {},
  "gist": {
   "data": {
    "description": "Untitled1.ipynb",
    "public": false
   },
   "id": ""
  },
  "kernelspec": {
   "display_name": "Python [conda env:magispublic]",
   "language": "python",
   "name": "conda-env-magispublic-py"
  },
  "language_info": {
   "codemirror_mode": {
    "name": "ipython",
    "version": 3
   },
   "file_extension": ".py",
   "mimetype": "text/x-python",
   "name": "python",
   "nbconvert_exporter": "python",
   "pygments_lexer": "ipython3",
   "version": "3.6.0"
  }
 },
 "nbformat": 4,
 "nbformat_minor": 1
}
